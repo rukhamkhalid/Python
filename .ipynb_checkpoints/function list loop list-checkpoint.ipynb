{
 "cells": [
  {
   "cell_type": "code",
   "execution_count": null,
   "id": "3175667c-1120-454d-b340-7a8da909ab91",
   "metadata": {},
   "outputs": [],
   "source": [
    "#list k Functions python\n",
    "#list create hoti h[]\n",
    "#tuple()\n",
    "#sets{}"
   ]
  },
  {
   "cell_type": "code",
   "execution_count": 15,
   "id": "790b9ae8-86c5-4fd4-a524-258d744cb78d",
   "metadata": {},
   "outputs": [],
   "source": [
    "my_list=[\"Red\",\"Blue\",\"Green\"]"
   ]
  },
  {
   "cell_type": "code",
   "execution_count": 16,
   "id": "bf050548-48f0-4efc-91a7-6e79ebd1a8cf",
   "metadata": {},
   "outputs": [
    {
     "name": "stdout",
     "output_type": "stream",
     "text": [
      "Red\n"
     ]
    }
   ],
   "source": [
    "print(my_list[0])"
   ]
  },
  {
   "cell_type": "code",
   "execution_count": 17,
   "id": "b259b0a5-d2e0-4f59-84d4-17fe5b68cc79",
   "metadata": {},
   "outputs": [
    {
     "data": {
      "text/plain": [
       "list"
      ]
     },
     "execution_count": 17,
     "metadata": {},
     "output_type": "execute_result"
    }
   ],
   "source": [
    "type(my_list)"
   ]
  },
  {
   "cell_type": "code",
   "execution_count": 18,
   "id": "fcf6dfdd-e432-4d4b-8763-320b53db281e",
   "metadata": {},
   "outputs": [
    {
     "name": "stdout",
     "output_type": "stream",
     "text": [
      "<class 'list'>\n"
     ]
    }
   ],
   "source": [
    "print(type(my_list))"
   ]
  },
  {
   "cell_type": "code",
   "execution_count": 20,
   "id": "d85a3be1-175a-4e85-bf6e-872ca319af74",
   "metadata": {},
   "outputs": [],
   "source": [
    "#obj = CLASSNAME() SYNTAX OBJECT CREATE IN PYTHON"
   ]
  },
  {
   "cell_type": "code",
   "execution_count": 22,
   "id": "d9923708-422d-470b-8b37-c5d743866a89",
   "metadata": {},
   "outputs": [],
   "source": [
    "larai=list([\"Preehan\",\"Urwa\",\"Rukham\"])"
   ]
  },
  {
   "cell_type": "code",
   "execution_count": 38,
   "id": "4dbe58bf-65a3-4df0-a3a1-3a35e170bb44",
   "metadata": {},
   "outputs": [
    {
     "name": "stdout",
     "output_type": "stream",
     "text": [
      "['Preehan', 'Urwa', 'Rukham']\n"
     ]
    }
   ],
   "source": [
    "print(larai)"
   ]
  },
  {
   "cell_type": "code",
   "execution_count": 35,
   "id": "a0b350b6-2727-468a-a7b8-d7dd032082c3",
   "metadata": {},
   "outputs": [],
   "source": [
    "#.append last py element add krta\n",
    "my_list.append(\"Asher\")"
   ]
  },
  {
   "cell_type": "code",
   "execution_count": 36,
   "id": "ca886993-8a50-460f-8b44-a0d70e3f2864",
   "metadata": {},
   "outputs": [
    {
     "name": "stdout",
     "output_type": "stream",
     "text": [
      "['Preehan', 'Uzair', 'Uzair', 'Uzair', 'koi bi', 'Urwa', 'Rukham', 'Asher', 'Asher']\n"
     ]
    }
   ],
   "source": [
    " print(my_list)"
   ]
  },
  {
   "cell_type": "code",
   "execution_count": 33,
   "id": "03b91f57-96e9-473a-9cbe-653f33bde3f9",
   "metadata": {},
   "outputs": [],
   "source": [
    "\n",
    "my_list.insert(1,\"Uzair\")"
   ]
  },
  {
   "cell_type": "code",
   "execution_count": 49,
   "id": "60e07aad-78ab-4bf5-9305-1924e207aa07",
   "metadata": {},
   "outputs": [
    {
     "name": "stdout",
     "output_type": "stream",
     "text": [
      "['Preehan', 'Urwa', 'Rukham', 'Asher']\n"
     ]
    }
   ],
   "source": [
    "#.insert drmyan m element add krwata\n",
    "print(my_list)"
   ]
  },
  {
   "cell_type": "code",
   "execution_count": 50,
   "id": "f166afcb-8db6-4fcb-a267-51f8a98d99cb",
   "metadata": {},
   "outputs": [
    {
     "data": {
      "text/plain": [
       "'Asher'"
      ]
     },
     "execution_count": 50,
     "metadata": {},
     "output_type": "execute_result"
    }
   ],
   "source": [
    "#.pop sy last wala remove hota\n",
    "my_list.pop()"
   ]
  },
  {
   "cell_type": "code",
   "execution_count": 51,
   "id": "d188841d-3b12-4455-bf86-caf4abd1b370",
   "metadata": {},
   "outputs": [
    {
     "ename": "ValueError",
     "evalue": "list.remove(x): x not in list",
     "output_type": "error",
     "traceback": [
      "\u001b[1;31m---------------------------------------------------------------------------\u001b[0m",
      "\u001b[1;31mValueError\u001b[0m                                Traceback (most recent call last)",
      "Cell \u001b[1;32mIn[51], line 1\u001b[0m\n\u001b[1;32m----> 1\u001b[0m \u001b[43mmy_list\u001b[49m\u001b[38;5;241;43m.\u001b[39;49m\u001b[43mremove\u001b[49m\u001b[43m(\u001b[49m\u001b[38;5;124;43m\"\u001b[39;49m\u001b[38;5;124;43mUzair\u001b[39;49m\u001b[38;5;124;43m\"\u001b[39;49m\u001b[43m)\u001b[49m\n\u001b[0;32m      2\u001b[0m \u001b[38;5;28mprint\u001b[39m(my_list)\n",
      "\u001b[1;31mValueError\u001b[0m: list.remove(x): x not in list"
     ]
    }
   ],
   "source": [
    "my_list.remove(\"Uzair\")\n",
    "print(my_list)"
   ]
  },
  {
   "cell_type": "code",
   "execution_count": 53,
   "id": "38f11691-c298-479e-8ea3-41edf0c88cc3",
   "metadata": {},
   "outputs": [],
   "source": [
    "#list looping python"
   ]
  },
  {
   "cell_type": "code",
   "execution_count": 69,
   "id": "44f8b32a-2424-4597-af1c-f7bfb7532d52",
   "metadata": {},
   "outputs": [
    {
     "name": "stdout",
     "output_type": "stream",
     "text": [
      "['Sufiyan']\n",
      "['Sufiyan', 'Rukham']\n",
      "['Sufiyan', 'Rukham', 'Tayyba']\n",
      "['Sufiyan', 'Rukham', 'Tayyba', 'Fatima']\n",
      "['Sufiyan', 'Rukham', 'Tayyba', 'Fatima', 'Ahmed']\n"
     ]
    }
   ],
   "source": [
    "names =[\"Sufiyan\",\"Rukham\",\"Tayyba\",\"Fatima\",\"Ahmed\"]\n",
    "u=[]\n",
    "for x in names:\n",
    "    if 'i' or 'u' in x:\n",
    "        u.append(x)\n",
    "        print(u)"
   ]
  },
  {
   "cell_type": "code",
   "execution_count": null,
   "id": "8371d8d1-7673-4715-a9ec-67650a4b4a56",
   "metadata": {},
   "outputs": [],
   "source": []
  },
  {
   "cell_type": "code",
   "execution_count": 70,
   "id": "f9e3a277-7217-45ba-bbb6-880acf4e07c1",
   "metadata": {},
   "outputs": [
    {
     "name": "stdout",
     "output_type": "stream",
     "text": [
      "['Sufiyan']\n",
      "['Sufiyan', 'Rukham']\n",
      "['Sufiyan', 'Rukham', 'Fatima']\n"
     ]
    }
   ],
   "source": [
    "names =[\"Sufiyan\",\"Rukham\",\"Tayyba\",\"Fatima\",\"Ahmed\"]\n",
    "u=[]\n",
    "for x in names:\n",
    "    if 'i' in x or 'u' in x:\n",
    "        u.append(x)\n",
    "        print(u)"
   ]
  },
  {
   "cell_type": "code",
   "execution_count": null,
   "id": "8d4c2150-f5e2-4a22-8c93-ad216b989b99",
   "metadata": {},
   "outputs": [],
   "source": []
  },
  {
   "cell_type": "code",
   "execution_count": 71,
   "id": "f30408d9-7961-4cf5-9c31-57a925410d13",
   "metadata": {},
   "outputs": [
    {
     "name": "stdout",
     "output_type": "stream",
     "text": [
      "['Sufiyan']\n"
     ]
    }
   ],
   "source": [
    "names =[\"Sufiyan\",\"Rukham\",\"Tayyba\",\"Fatima\",\"Ahmed\"]\n",
    "u=[]\n",
    "for x in names:\n",
    "    if 'i' in x and'u' in x:\n",
    "        u.append(x)\n",
    "        print(u)"
   ]
  },
  {
   "cell_type": "code",
   "execution_count": null,
   "id": "57a2befc-374e-40c0-878e-dc0d49c92f55",
   "metadata": {},
   "outputs": [],
   "source": []
  },
  {
   "cell_type": "code",
   "execution_count": 76,
   "id": "ea856749-f4c6-4b7d-9c90-9c9c14484b5d",
   "metadata": {},
   "outputs": [
    {
     "name": "stdout",
     "output_type": "stream",
     "text": [
      "['Rukham']\n",
      "['Rukham', 'Tayyba']\n",
      "['Rukham', 'Tayyba', 'Ahmed']\n"
     ]
    }
   ],
   "source": [
    "names =[\"Sufiyan\",\"Rukham\",\"Tayyba\",\"Fatima\",\"Ahmed\"]\n",
    "u=[]\n",
    "for x in names:\n",
    "    if 'i' not  in x:\n",
    "        u.append(x)\n",
    "        print(u)"
   ]
  },
  {
   "cell_type": "code",
   "execution_count": 73,
   "id": "f9725727-3738-465a-bdc1-40430fa01735",
   "metadata": {},
   "outputs": [
    {
     "name": "stdout",
     "output_type": "stream",
     "text": [
      "['Sufiyan', 'Rukham', 'Tayyba', 'Fatima', 'Ahmed']\n"
     ]
    }
   ],
   "source": [
    "new =[x for x in names if len(x)>4]\n",
    "print(new)"
   ]
  },
  {
   "cell_type": "code",
   "execution_count": 74,
   "id": "ffcdbcb4-ed72-4601-85ab-85420d6fdaf8",
   "metadata": {},
   "outputs": [
    {
     "name": "stdout",
     "output_type": "stream",
     "text": [
      "['Rukham', 'Fatima', 'Ahmed']\n"
     ]
    }
   ],
   "source": [
    "new=[x for x in names if 'm' in x]\n",
    "print(new)"
   ]
  },
  {
   "cell_type": "code",
   "execution_count": 82,
   "id": "e3fa7738-84e0-4c02-b106-d7dc445aedf9",
   "metadata": {},
   "outputs": [
    {
     "name": "stdout",
     "output_type": "stream",
     "text": [
      "['Fatima', 'Ahmed']\n"
     ]
    }
   ],
   "source": [
    "new =[x for x in names if 'F' in x or 'd' in x]\n",
    "print(new)"
   ]
  },
  {
   "cell_type": "code",
   "execution_count": 83,
   "id": "d6617e9c-d605-439a-b085-85d81a1af91f",
   "metadata": {},
   "outputs": [
    {
     "name": "stdout",
     "output_type": "stream",
     "text": [
      "['Sufiyan', 'Rukham']\n"
     ]
    }
   ],
   "source": [
    "new =[x for x in names if 'S' in x  or 'Ru' in x]\n",
    "print(new)"
   ]
  },
  {
   "cell_type": "code",
   "execution_count": null,
   "id": "0a29458e-c636-45bc-92b8-756f058f1d8c",
   "metadata": {},
   "outputs": [],
   "source": []
  }
 ],
 "metadata": {
  "kernelspec": {
   "display_name": "Python 3 (ipykernel)",
   "language": "python",
   "name": "python3"
  },
  "language_info": {
   "codemirror_mode": {
    "name": "ipython",
    "version": 3
   },
   "file_extension": ".py",
   "mimetype": "text/x-python",
   "name": "python",
   "nbconvert_exporter": "python",
   "pygments_lexer": "ipython3",
   "version": "3.12.0"
  }
 },
 "nbformat": 4,
 "nbformat_minor": 5
}
