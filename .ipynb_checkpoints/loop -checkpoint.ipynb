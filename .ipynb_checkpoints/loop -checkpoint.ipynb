{
 "cells": [
  {
   "cell_type": "code",
   "execution_count": 48,
   "id": "bd1dff92-bafe-46f3-b84f-6f97322dea30",
   "metadata": {},
   "outputs": [],
   "source": [
    "name = \"Rukham\""
   ]
  },
  {
   "cell_type": "code",
   "execution_count": 49,
   "id": "2cf9deb2-6578-444f-9791-886539d53d29",
   "metadata": {},
   "outputs": [
    {
     "name": "stdout",
     "output_type": "stream",
     "text": [
      "RRRRRRRRRR\n",
      "uuuuuuuuuu\n",
      "kkkkkkkkkk\n",
      "hhhhhhhhhh\n",
      "aaaaaaaaaa\n",
      "mmmmmmmmmm\n"
     ]
    }
   ],
   "source": [
    "for x in name:\n",
    "    print(x*10)"
   ]
  },
  {
   "cell_type": "code",
   "execution_count": 52,
   "id": "c45a43f1-0574-48c0-ab8f-bedcb7c59091",
   "metadata": {},
   "outputs": [
    {
     "name": "stdout",
     "output_type": "stream",
     "text": [
      "R\n",
      "k\n",
      "a\n"
     ]
    }
   ],
   "source": [
    "for i in range(0,5,2):\n",
    "    print(name[i])"
   ]
  },
  {
   "cell_type": "code",
   "execution_count": 59,
   "id": "fd769e5a-2712-4971-acf0-138c8bade046",
   "metadata": {},
   "outputs": [],
   "source": [
    "name = \"Khamiiiii\""
   ]
  },
  {
   "cell_type": "code",
   "execution_count": 61,
   "id": "751a079b-f21d-452d-a993-1dc32ecfc159",
   "metadata": {},
   "outputs": [
    {
     "name": "stdout",
     "output_type": "stream",
     "text": [
      "KKKKKKKK\n",
      "hhhhhhhh\n",
      "aaaaaaaa\n",
      "mmmmmmmm\n",
      "iiiiiiii\n",
      "iiiiiiii\n",
      "iiiiiiii\n",
      "iiiiiiii\n",
      "iiiiiiii\n"
     ]
    }
   ],
   "source": [
    "for x in name:\n",
    "    print(x*8)"
   ]
  },
  {
   "cell_type": "code",
   "execution_count": 62,
   "id": "db73f3ed-ca4a-4e36-a4ec-289d738cb7bf",
   "metadata": {},
   "outputs": [
    {
     "name": "stdout",
     "output_type": "stream",
     "text": [
      "i\n",
      "i\n",
      "m\n",
      "a\n",
      "h\n",
      "K\n"
     ]
    }
   ],
   "source": [
    "#reverse loop in python\n",
    "for k in range(5,-1,-1):\n",
    " print(name[k])"
   ]
  },
  {
   "cell_type": "code",
   "execution_count": null,
   "id": "763c3311-b84d-4b2b-929f-0a2ceb0e1826",
   "metadata": {},
   "outputs": [],
   "source": []
  },
  {
   "cell_type": "code",
   "execution_count": 58,
   "id": "fd79c212-fad3-4d74-9ac8-840d7ffa3438",
   "metadata": {},
   "outputs": [
    {
     "name": "stdout",
     "output_type": "stream",
     "text": [
      "5\n",
      "4\n",
      "3\n",
      "2\n",
      "1\n",
      "0\n"
     ]
    }
   ],
   "source": [
    "#reverse loop in python\n",
    "for k in range(5,-1,-1):\n",
    " print(k)"
   ]
  },
  {
   "cell_type": "code",
   "execution_count": null,
   "id": "5e44d875-d81c-42ad-8ccd-cd4eef3c0de4",
   "metadata": {},
   "outputs": [],
   "source": []
  },
  {
   "cell_type": "code",
   "execution_count": 63,
   "id": "af13c014-5d67-4b10-92da-f83f7ca8c4e2",
   "metadata": {},
   "outputs": [
    {
     "name": "stdout",
     "output_type": "stream",
     "text": [
      "0\n",
      "-3\n",
      "-6\n",
      "-9\n",
      "-12\n",
      "-15\n",
      "-18\n",
      "-21\n",
      "-24\n",
      "-27\n",
      "-30\n",
      "-33\n",
      "-36\n",
      "-39\n",
      "-42\n",
      "-45\n",
      "-48\n",
      "-51\n",
      "-54\n",
      "-57\n",
      "-60\n",
      "-63\n",
      "-66\n",
      "-69\n",
      "-72\n",
      "-75\n",
      "-78\n",
      "-81\n",
      "-84\n",
      "-87\n",
      "-90\n",
      "-93\n",
      "-96\n",
      "-99\n"
     ]
    }
   ],
   "source": [
    "#reverse loop in python\n",
    "for k in range(0,-100,-3):\n",
    " print(k)"
   ]
  },
  {
   "cell_type": "code",
   "execution_count": null,
   "id": "239143ae-e5d1-4f37-b668-1c1f7f6077e9",
   "metadata": {},
   "outputs": [],
   "source": []
  }
 ],
 "metadata": {
  "kernelspec": {
   "display_name": "Python 3 (ipykernel)",
   "language": "python",
   "name": "python3"
  },
  "language_info": {
   "codemirror_mode": {
    "name": "ipython",
    "version": 3
   },
   "file_extension": ".py",
   "mimetype": "text/x-python",
   "name": "python",
   "nbconvert_exporter": "python",
   "pygments_lexer": "ipython3",
   "version": "3.12.0"
  }
 },
 "nbformat": 4,
 "nbformat_minor": 5
}
