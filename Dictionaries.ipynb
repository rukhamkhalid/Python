{
 "cells": [
  {
   "cell_type": "code",
   "execution_count": 1,
   "id": "3c308797-504f-48bd-88f0-454fe9c69fc2",
   "metadata": {},
   "outputs": [],
   "source": [
    "d = { 'Name' : \"Rukham\", \n",
    "     \"Semester\" : 4, \"CGPA\" : 3.47\n",
    "    }"
   ]
  },
  {
   "cell_type": "code",
   "execution_count": 2,
   "id": "d6d3369f-c4f5-489f-a178-b26d0f2b8bcc",
   "metadata": {},
   "outputs": [
    {
     "data": {
      "text/plain": [
       "dict_keys(['Name', 'Semester', 'CGPA'])"
      ]
     },
     "execution_count": 2,
     "metadata": {},
     "output_type": "execute_result"
    }
   ],
   "source": [
    "d.keys()"
   ]
  },
  {
   "cell_type": "code",
   "execution_count": 3,
   "id": "9478e87e-a702-4c80-99c8-c104e3c5e228",
   "metadata": {},
   "outputs": [
    {
     "data": {
      "text/plain": [
       "dict_values(['Rukham', 4, 3.47])"
      ]
     },
     "execution_count": 3,
     "metadata": {},
     "output_type": "execute_result"
    }
   ],
   "source": [
    "d.values()"
   ]
  },
  {
   "cell_type": "code",
   "execution_count": 4,
   "id": "10ae9d86-5b17-48f0-bb82-c85f3b180d2f",
   "metadata": {},
   "outputs": [],
   "source": [
    "d['Name'] = \"Absar\""
   ]
  },
  {
   "cell_type": "code",
   "execution_count": 5,
   "id": "67ae92b3-4a01-4342-8e51-14deece8e3ea",
   "metadata": {},
   "outputs": [
    {
     "data": {
      "text/plain": [
       "{'Name': 'Absar', 'Semester': 4, 'CGPA': 3.47}"
      ]
     },
     "execution_count": 5,
     "metadata": {},
     "output_type": "execute_result"
    }
   ],
   "source": [
    "d"
   ]
  },
  {
   "cell_type": "code",
   "execution_count": 6,
   "id": "5df2ea04-e8d6-4fe9-a78f-eee36acf027a",
   "metadata": {},
   "outputs": [
    {
     "data": {
      "text/plain": [
       "dict_items([('Name', 'Absar'), ('Semester', 4), ('CGPA', 3.47)])"
      ]
     },
     "execution_count": 6,
     "metadata": {},
     "output_type": "execute_result"
    }
   ],
   "source": [
    "d.items()"
   ]
  },
  {
   "cell_type": "code",
   "execution_count": 7,
   "id": "d3043160-3bd8-4a07-a243-d78be4b01f47",
   "metadata": {},
   "outputs": [],
   "source": [
    "d['city'] = 'FSD'"
   ]
  },
  {
   "cell_type": "code",
   "execution_count": 8,
   "id": "bf7ac147-ded7-43b7-9a14-eec2f7e37cca",
   "metadata": {},
   "outputs": [
    {
     "data": {
      "text/plain": [
       "{'Name': 'Absar', 'Semester': 4, 'CGPA': 3.47, 'city': 'FSD'}"
      ]
     },
     "execution_count": 8,
     "metadata": {},
     "output_type": "execute_result"
    }
   ],
   "source": [
    "d"
   ]
  },
  {
   "cell_type": "code",
   "execution_count": 9,
   "id": "0186f12c-4a22-4564-bbcf-c89bd569394c",
   "metadata": {},
   "outputs": [
    {
     "data": {
      "text/plain": [
       "'Absar'"
      ]
     },
     "execution_count": 9,
     "metadata": {},
     "output_type": "execute_result"
    }
   ],
   "source": [
    "d.pop(\"Name\")"
   ]
  },
  {
   "cell_type": "code",
   "execution_count": 22,
   "id": "85f488f7-aecc-4c49-af87-9e988088cff5",
   "metadata": {},
   "outputs": [],
   "source": [
    "d = { 'Name' : ['Rukham','Absar','Urwa','Preehan','Ahmed'], \"Semester\" :[4,4,4,2,6], \"CGPA\" : [3.4,3.8,2.9,3.2,3.1]}"
   ]
  },
  {
   "cell_type": "code",
   "execution_count": 23,
   "id": "75970d9d-04a9-42d0-aa3d-6a27e879be8c",
   "metadata": {},
   "outputs": [],
   "source": [
    "import pandas as pd"
   ]
  },
  {
   "cell_type": "code",
   "execution_count": 24,
   "id": "da30f0d3-7aae-40aa-bd90-43ff2855ac08",
   "metadata": {},
   "outputs": [],
   "source": [
    "df = pd.DataFrame(d)"
   ]
  },
  {
   "cell_type": "code",
   "execution_count": 25,
   "id": "cb4c1d17-74dd-483c-9af0-71d17cf2c7b8",
   "metadata": {},
   "outputs": [
    {
     "data": {
      "text/html": [
       "<div>\n",
       "<style scoped>\n",
       "    .dataframe tbody tr th:only-of-type {\n",
       "        vertical-align: middle;\n",
       "    }\n",
       "\n",
       "    .dataframe tbody tr th {\n",
       "        vertical-align: top;\n",
       "    }\n",
       "\n",
       "    .dataframe thead th {\n",
       "        text-align: right;\n",
       "    }\n",
       "</style>\n",
       "<table border=\"1\" class=\"dataframe\">\n",
       "  <thead>\n",
       "    <tr style=\"text-align: right;\">\n",
       "      <th></th>\n",
       "      <th>Name</th>\n",
       "      <th>Semester</th>\n",
       "      <th>CGPA</th>\n",
       "    </tr>\n",
       "  </thead>\n",
       "  <tbody>\n",
       "    <tr>\n",
       "      <th>0</th>\n",
       "      <td>Rukham</td>\n",
       "      <td>4</td>\n",
       "      <td>3.4</td>\n",
       "    </tr>\n",
       "    <tr>\n",
       "      <th>1</th>\n",
       "      <td>Absar</td>\n",
       "      <td>4</td>\n",
       "      <td>3.8</td>\n",
       "    </tr>\n",
       "    <tr>\n",
       "      <th>2</th>\n",
       "      <td>Urwa</td>\n",
       "      <td>4</td>\n",
       "      <td>2.9</td>\n",
       "    </tr>\n",
       "    <tr>\n",
       "      <th>3</th>\n",
       "      <td>Preehan</td>\n",
       "      <td>2</td>\n",
       "      <td>3.2</td>\n",
       "    </tr>\n",
       "    <tr>\n",
       "      <th>4</th>\n",
       "      <td>Ahmed</td>\n",
       "      <td>6</td>\n",
       "      <td>3.1</td>\n",
       "    </tr>\n",
       "  </tbody>\n",
       "</table>\n",
       "</div>"
      ],
      "text/plain": [
       "      Name  Semester  CGPA\n",
       "0   Rukham         4   3.4\n",
       "1    Absar         4   3.8\n",
       "2     Urwa         4   2.9\n",
       "3  Preehan         2   3.2\n",
       "4    Ahmed         6   3.1"
      ]
     },
     "execution_count": 25,
     "metadata": {},
     "output_type": "execute_result"
    }
   ],
   "source": [
    "df"
   ]
  },
  {
   "cell_type": "code",
   "execution_count": 26,
   "id": "4b4a9e0d-e54a-4f49-bf02-246c6572ac84",
   "metadata": {},
   "outputs": [],
   "source": [
    "dfi =pd.DataFrame(d,index=d['Name'])"
   ]
  },
  {
   "cell_type": "code",
   "execution_count": 27,
   "id": "c824b056-e116-4b16-99d7-641a9f5ba601",
   "metadata": {},
   "outputs": [
    {
     "data": {
      "text/html": [
       "<div>\n",
       "<style scoped>\n",
       "    .dataframe tbody tr th:only-of-type {\n",
       "        vertical-align: middle;\n",
       "    }\n",
       "\n",
       "    .dataframe tbody tr th {\n",
       "        vertical-align: top;\n",
       "    }\n",
       "\n",
       "    .dataframe thead th {\n",
       "        text-align: right;\n",
       "    }\n",
       "</style>\n",
       "<table border=\"1\" class=\"dataframe\">\n",
       "  <thead>\n",
       "    <tr style=\"text-align: right;\">\n",
       "      <th></th>\n",
       "      <th>Name</th>\n",
       "      <th>Semester</th>\n",
       "      <th>CGPA</th>\n",
       "    </tr>\n",
       "  </thead>\n",
       "  <tbody>\n",
       "    <tr>\n",
       "      <th>Rukham</th>\n",
       "      <td>Rukham</td>\n",
       "      <td>4</td>\n",
       "      <td>3.4</td>\n",
       "    </tr>\n",
       "    <tr>\n",
       "      <th>Absar</th>\n",
       "      <td>Absar</td>\n",
       "      <td>4</td>\n",
       "      <td>3.8</td>\n",
       "    </tr>\n",
       "    <tr>\n",
       "      <th>Urwa</th>\n",
       "      <td>Urwa</td>\n",
       "      <td>4</td>\n",
       "      <td>2.9</td>\n",
       "    </tr>\n",
       "    <tr>\n",
       "      <th>Preehan</th>\n",
       "      <td>Preehan</td>\n",
       "      <td>2</td>\n",
       "      <td>3.2</td>\n",
       "    </tr>\n",
       "    <tr>\n",
       "      <th>Ahmed</th>\n",
       "      <td>Ahmed</td>\n",
       "      <td>6</td>\n",
       "      <td>3.1</td>\n",
       "    </tr>\n",
       "  </tbody>\n",
       "</table>\n",
       "</div>"
      ],
      "text/plain": [
       "            Name  Semester  CGPA\n",
       "Rukham    Rukham         4   3.4\n",
       "Absar      Absar         4   3.8\n",
       "Urwa        Urwa         4   2.9\n",
       "Preehan  Preehan         2   3.2\n",
       "Ahmed      Ahmed         6   3.1"
      ]
     },
     "execution_count": 27,
     "metadata": {},
     "output_type": "execute_result"
    }
   ],
   "source": [
    "dfi"
   ]
  },
  {
   "cell_type": "code",
   "execution_count": 28,
   "id": "7cf4c1bc-fd3f-422f-ab58-752322ce068b",
   "metadata": {},
   "outputs": [
    {
     "data": {
      "text/html": [
       "<div>\n",
       "<style scoped>\n",
       "    .dataframe tbody tr th:only-of-type {\n",
       "        vertical-align: middle;\n",
       "    }\n",
       "\n",
       "    .dataframe tbody tr th {\n",
       "        vertical-align: top;\n",
       "    }\n",
       "\n",
       "    .dataframe thead th {\n",
       "        text-align: right;\n",
       "    }\n",
       "</style>\n",
       "<table border=\"1\" class=\"dataframe\">\n",
       "  <thead>\n",
       "    <tr style=\"text-align: right;\">\n",
       "      <th></th>\n",
       "      <th>Semester</th>\n",
       "      <th>CGPA</th>\n",
       "    </tr>\n",
       "  </thead>\n",
       "  <tbody>\n",
       "    <tr>\n",
       "      <th>Rukham</th>\n",
       "      <td>4</td>\n",
       "      <td>3.4</td>\n",
       "    </tr>\n",
       "    <tr>\n",
       "      <th>Absar</th>\n",
       "      <td>4</td>\n",
       "      <td>3.8</td>\n",
       "    </tr>\n",
       "    <tr>\n",
       "      <th>Urwa</th>\n",
       "      <td>4</td>\n",
       "      <td>2.9</td>\n",
       "    </tr>\n",
       "    <tr>\n",
       "      <th>Preehan</th>\n",
       "      <td>2</td>\n",
       "      <td>3.2</td>\n",
       "    </tr>\n",
       "    <tr>\n",
       "      <th>Ahmed</th>\n",
       "      <td>6</td>\n",
       "      <td>3.1</td>\n",
       "    </tr>\n",
       "  </tbody>\n",
       "</table>\n",
       "</div>"
      ],
      "text/plain": [
       "         Semester  CGPA\n",
       "Rukham          4   3.4\n",
       "Absar           4   3.8\n",
       "Urwa            4   2.9\n",
       "Preehan         2   3.2\n",
       "Ahmed           6   3.1"
      ]
     },
     "execution_count": 28,
     "metadata": {},
     "output_type": "execute_result"
    }
   ],
   "source": [
    "dfi.drop('Name',axis=1)"
   ]
  },
  {
   "cell_type": "code",
   "execution_count": 29,
   "id": "eb6e4c97-e602-493a-a64c-647a9c62229a",
   "metadata": {},
   "outputs": [],
   "source": [
    "dic=dict(dfi)"
   ]
  },
  {
   "cell_type": "code",
   "execution_count": 30,
   "id": "be491366-c72c-480f-8096-cea2dc1bfc30",
   "metadata": {},
   "outputs": [
    {
     "data": {
      "text/plain": [
       "{'Name': Rukham      Rukham\n",
       " Absar        Absar\n",
       " Urwa          Urwa\n",
       " Preehan    Preehan\n",
       " Ahmed        Ahmed\n",
       " Name: Name, dtype: object,\n",
       " 'Semester': Rukham     4\n",
       " Absar      4\n",
       " Urwa       4\n",
       " Preehan    2\n",
       " Ahmed      6\n",
       " Name: Semester, dtype: int64,\n",
       " 'CGPA': Rukham     3.4\n",
       " Absar      3.8\n",
       " Urwa       2.9\n",
       " Preehan    3.2\n",
       " Ahmed      3.1\n",
       " Name: CGPA, dtype: float64}"
      ]
     },
     "execution_count": 30,
     "metadata": {},
     "output_type": "execute_result"
    }
   ],
   "source": [
    "dic"
   ]
  },
  {
   "cell_type": "code",
   "execution_count": null,
   "id": "7dba5213-1139-4568-982b-c001bae2a0ef",
   "metadata": {},
   "outputs": [],
   "source": []
  },
  {
   "cell_type": "code",
   "execution_count": 46,
   "id": "bafac6e6-086a-4205-b88a-fea109b37736",
   "metadata": {},
   "outputs": [],
   "source": [
    "per =[]\n",
    "for i in d['CGPA']:\n",
    "    if i>3.5:\n",
    "        per.append(\"A\")\n",
    "    elif i>3:\n",
    "         per.append(\"B\")\n",
    "    else:\n",
    "         per.append(\"C\")"
   ]
  },
  {
   "cell_type": "code",
   "execution_count": 47,
   "id": "0199c67e-3ea7-40c2-b82e-b0680dc00291",
   "metadata": {},
   "outputs": [],
   "source": [
    "dfi['Category']=per"
   ]
  },
  {
   "cell_type": "code",
   "execution_count": 48,
   "id": "ab758a03-b132-4b46-9a58-5abbeb0920be",
   "metadata": {},
   "outputs": [
    {
     "data": {
      "text/html": [
       "<div>\n",
       "<style scoped>\n",
       "    .dataframe tbody tr th:only-of-type {\n",
       "        vertical-align: middle;\n",
       "    }\n",
       "\n",
       "    .dataframe tbody tr th {\n",
       "        vertical-align: top;\n",
       "    }\n",
       "\n",
       "    .dataframe thead th {\n",
       "        text-align: right;\n",
       "    }\n",
       "</style>\n",
       "<table border=\"1\" class=\"dataframe\">\n",
       "  <thead>\n",
       "    <tr style=\"text-align: right;\">\n",
       "      <th></th>\n",
       "      <th>Name</th>\n",
       "      <th>Semester</th>\n",
       "      <th>CGPA</th>\n",
       "      <th>Category</th>\n",
       "    </tr>\n",
       "  </thead>\n",
       "  <tbody>\n",
       "    <tr>\n",
       "      <th>Rukham</th>\n",
       "      <td>Rukham</td>\n",
       "      <td>4</td>\n",
       "      <td>3.4</td>\n",
       "      <td>B</td>\n",
       "    </tr>\n",
       "    <tr>\n",
       "      <th>Absar</th>\n",
       "      <td>Absar</td>\n",
       "      <td>4</td>\n",
       "      <td>3.8</td>\n",
       "      <td>A</td>\n",
       "    </tr>\n",
       "    <tr>\n",
       "      <th>Urwa</th>\n",
       "      <td>Urwa</td>\n",
       "      <td>4</td>\n",
       "      <td>2.9</td>\n",
       "      <td>C</td>\n",
       "    </tr>\n",
       "    <tr>\n",
       "      <th>Preehan</th>\n",
       "      <td>Preehan</td>\n",
       "      <td>2</td>\n",
       "      <td>3.2</td>\n",
       "      <td>B</td>\n",
       "    </tr>\n",
       "    <tr>\n",
       "      <th>Ahmed</th>\n",
       "      <td>Ahmed</td>\n",
       "      <td>6</td>\n",
       "      <td>3.1</td>\n",
       "      <td>B</td>\n",
       "    </tr>\n",
       "  </tbody>\n",
       "</table>\n",
       "</div>"
      ],
      "text/plain": [
       "            Name  Semester  CGPA Category\n",
       "Rukham    Rukham         4   3.4        B\n",
       "Absar      Absar         4   3.8        A\n",
       "Urwa        Urwa         4   2.9        C\n",
       "Preehan  Preehan         2   3.2        B\n",
       "Ahmed      Ahmed         6   3.1        B"
      ]
     },
     "execution_count": 48,
     "metadata": {},
     "output_type": "execute_result"
    }
   ],
   "source": [
    "dfi"
   ]
  },
  {
   "cell_type": "code",
   "execution_count": null,
   "id": "9ab3eef5-af73-4858-b51e-cf9c0f3b3f15",
   "metadata": {},
   "outputs": [],
   "source": []
  }
 ],
 "metadata": {
  "kernelspec": {
   "display_name": "Python 3 (ipykernel)",
   "language": "python",
   "name": "python3"
  },
  "language_info": {
   "codemirror_mode": {
    "name": "ipython",
    "version": 3
   },
   "file_extension": ".py",
   "mimetype": "text/x-python",
   "name": "python",
   "nbconvert_exporter": "python",
   "pygments_lexer": "ipython3",
   "version": "3.12.0"
  }
 },
 "nbformat": 4,
 "nbformat_minor": 5
}
