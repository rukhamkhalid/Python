{
 "cells": [
  {
   "cell_type": "code",
   "execution_count": 5,
   "id": "bcd450ac-fca0-4d44-baf9-52b6fb2dff90",
   "metadata": {},
   "outputs": [],
   "source": [
    "v=['a','e','i','o','u']"
   ]
  },
  {
   "cell_type": "code",
   "execution_count": 7,
   "id": "13effc90-411a-4679-ac44-0e94e7a5e6aa",
   "metadata": {},
   "outputs": [
    {
     "name": "stdout",
     "output_type": "stream",
     "text": [
      "['a', 'e', 'i', 'o', 'u']\n"
     ]
    }
   ],
   "source": [
    "print(v)"
   ]
  },
  {
   "cell_type": "code",
   "execution_count": 23,
   "id": "9d99fb4c-4179-42c6-ad16-2d8ce725e0bb",
   "metadata": {},
   "outputs": [],
   "source": [
    "def vowel(char):\n",
    "    vowel='a','e','i','o','u','A','E','I','O','U'"
   ]
  },
  {
   "cell_type": "code",
   "execution_count": 24,
   "id": "57b66db3-1b4f-46f8-bcea-3730078d7d23",
   "metadata": {},
   "outputs": [
    {
     "name": "stdin",
     "output_type": "stream",
     "text": [
      "Enter a character: a\n"
     ]
    },
    {
     "name": "stdout",
     "output_type": "stream",
     "text": [
      "is not vowel\n"
     ]
    }
   ],
   "source": [
    "char=input(\"Enter a character:\")\n",
    "if vowel==(char):\n",
    "    print(\"is a vowel\")\n",
    "else:\n",
    "    print(\"is not vowel\")\n"
   ]
  },
  {
   "cell_type": "code",
   "execution_count": null,
   "id": "d178dcad-05b0-47c1-b7e6-2ec2c7ed0c12",
   "metadata": {},
   "outputs": [],
   "source": []
  }
 ],
 "metadata": {
  "kernelspec": {
   "display_name": "Python 3 (ipykernel)",
   "language": "python",
   "name": "python3"
  },
  "language_info": {
   "codemirror_mode": {
    "name": "ipython",
    "version": 3
   },
   "file_extension": ".py",
   "mimetype": "text/x-python",
   "name": "python",
   "nbconvert_exporter": "python",
   "pygments_lexer": "ipython3",
   "version": "3.12.0"
  }
 },
 "nbformat": 4,
 "nbformat_minor": 5
}
