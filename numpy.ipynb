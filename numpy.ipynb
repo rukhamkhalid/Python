{
 "cells": [
  {
   "cell_type": "markdown",
   "id": "b0a1506d-8302-4038-b2ef-a95b15a33f6f",
   "metadata": {},
   "source": [
    "#numpy practices"
   ]
  },
  {
   "cell_type": "code",
   "execution_count": null,
   "id": "3fecf73d-27b2-488b-b03e-1b9414e9cd96",
   "metadata": {},
   "outputs": [],
   "source": []
  },
  {
   "cell_type": "code",
   "execution_count": 1,
   "id": "baf3f9e8-989a-4f49-a143-580d33bd4bb8",
   "metadata": {},
   "outputs": [],
   "source": [
    "import numpy as np\n",
    "import pandas as pd\n",
    "import matplotlib.pyplot as plt "
   ]
  },
  {
   "cell_type": "code",
   "execution_count": 2,
   "id": "e8397067-af06-4728-b540-590d697a7532",
   "metadata": {},
   "outputs": [],
   "source": [
    "r=[1,432,434,54,2,54,38]"
   ]
  },
  {
   "cell_type": "code",
   "execution_count": 3,
   "id": "c83e5323-06ae-45e9-8ce4-90b06f67eb56",
   "metadata": {},
   "outputs": [],
   "source": [
    "arr = np.array(r)"
   ]
  },
  {
   "cell_type": "code",
   "execution_count": 4,
   "id": "cc036739-2c71-47e5-9b3c-1cdf3f960dad",
   "metadata": {},
   "outputs": [
    {
     "data": {
      "text/plain": [
       "array([  1, 432, 434,  54,   2,  54,  38])"
      ]
     },
     "execution_count": 4,
     "metadata": {},
     "output_type": "execute_result"
    }
   ],
   "source": [
    "arr"
   ]
  },
  {
   "cell_type": "code",
   "execution_count": 5,
   "id": "e24fb6c8-2e66-4ade-9ce9-924a42a71bfa",
   "metadata": {},
   "outputs": [
    {
     "data": {
      "text/plain": [
       "(7,)"
      ]
     },
     "execution_count": 5,
     "metadata": {},
     "output_type": "execute_result"
    }
   ],
   "source": [
    "arr.shape"
   ]
  },
  {
   "cell_type": "code",
   "execution_count": 6,
   "id": "02161208-4edf-4b91-ac0a-91d55ee3f059",
   "metadata": {},
   "outputs": [],
   "source": [
    "arr = np.array([[1,2],[3,4],[5,6]])"
   ]
  },
  {
   "cell_type": "code",
   "execution_count": 7,
   "id": "127866d8-3803-40f8-a1d1-dd3a6ec4a78f",
   "metadata": {},
   "outputs": [
    {
     "data": {
      "text/plain": [
       "(3, 2)"
      ]
     },
     "execution_count": 7,
     "metadata": {},
     "output_type": "execute_result"
    }
   ],
   "source": [
    "arr.shape"
   ]
  },
  {
   "cell_type": "code",
   "execution_count": 8,
   "id": "073d9440-3f6e-4798-9324-8b2765bf8860",
   "metadata": {},
   "outputs": [],
   "source": [
    "arr = np.random.randint(100,size=(30))"
   ]
  },
  {
   "cell_type": "code",
   "execution_count": 9,
   "id": "764414a1-8229-420b-8df3-744aadbf5695",
   "metadata": {},
   "outputs": [
    {
     "data": {
      "text/plain": [
       "array([74, 93, 15, 43, 88, 83, 47,  3, 53, 54, 73, 54, 71, 37, 90,  2, 70,\n",
       "       82, 66, 63, 69, 62, 59, 59, 75, 31, 45, 36, 17, 42])"
      ]
     },
     "execution_count": 9,
     "metadata": {},
     "output_type": "execute_result"
    }
   ],
   "source": [
    "arr"
   ]
  },
  {
   "cell_type": "code",
   "execution_count": 10,
   "id": "6237718f-6d16-490a-b7f0-f112f54b8bbd",
   "metadata": {},
   "outputs": [
    {
     "data": {
      "text/plain": [
       "(30,)"
      ]
     },
     "execution_count": 10,
     "metadata": {},
     "output_type": "execute_result"
    }
   ],
   "source": [
    "arr.shape"
   ]
  },
  {
   "cell_type": "code",
   "execution_count": 12,
   "id": "2896035a-5680-4a2f-a500-5e0536735f8f",
   "metadata": {},
   "outputs": [
    {
     "data": {
      "text/plain": [
       "array([[74, 93],\n",
       "       [15, 43],\n",
       "       [88, 83],\n",
       "       [47,  3],\n",
       "       [53, 54],\n",
       "       [73, 54],\n",
       "       [71, 37],\n",
       "       [90,  2],\n",
       "       [70, 82],\n",
       "       [66, 63],\n",
       "       [69, 62],\n",
       "       [59, 59],\n",
       "       [75, 31],\n",
       "       [45, 36],\n",
       "       [17, 42]])"
      ]
     },
     "execution_count": 12,
     "metadata": {},
     "output_type": "execute_result"
    }
   ],
   "source": [
    "arr.reshape(15,2)"
   ]
  },
  {
   "cell_type": "code",
   "execution_count": 14,
   "id": "bf94f1c6-8d90-4326-baf4-1859af281e2a",
   "metadata": {},
   "outputs": [
    {
     "data": {
      "text/plain": [
       "array([[74, 93, 15, 43, 88, 83],\n",
       "       [47,  3, 53, 54, 73, 54],\n",
       "       [71, 37, 90,  2, 70, 82],\n",
       "       [66, 63, 69, 62, 59, 59],\n",
       "       [75, 31, 45, 36, 17, 42]])"
      ]
     },
     "execution_count": 14,
     "metadata": {},
     "output_type": "execute_result"
    }
   ],
   "source": [
    "arr.reshape(5,6)"
   ]
  },
  {
   "cell_type": "code",
   "execution_count": 15,
   "id": "65fceb85-253a-4fa1-9407-3c6bd57840f0",
   "metadata": {},
   "outputs": [
    {
     "data": {
      "text/plain": [
       "array([[[74, 93],\n",
       "        [15, 43],\n",
       "        [88, 83]],\n",
       "\n",
       "       [[47,  3],\n",
       "        [53, 54],\n",
       "        [73, 54]],\n",
       "\n",
       "       [[71, 37],\n",
       "        [90,  2],\n",
       "        [70, 82]],\n",
       "\n",
       "       [[66, 63],\n",
       "        [69, 62],\n",
       "        [59, 59]],\n",
       "\n",
       "       [[75, 31],\n",
       "        [45, 36],\n",
       "        [17, 42]]])"
      ]
     },
     "execution_count": 15,
     "metadata": {},
     "output_type": "execute_result"
    }
   ],
   "source": [
    "arr.reshape(5,3,2)"
   ]
  },
  {
   "cell_type": "code",
   "execution_count": 16,
   "id": "d3b78d2c-8843-4198-a385-877dd25ae556",
   "metadata": {},
   "outputs": [
    {
     "data": {
      "text/plain": [
       "1"
      ]
     },
     "execution_count": 16,
     "metadata": {},
     "output_type": "execute_result"
    }
   ],
   "source": [
    "arr.ndim"
   ]
  },
  {
   "cell_type": "code",
   "execution_count": 19,
   "id": "b9c7baed-5ebd-4d46-8f7b-efd251ff4532",
   "metadata": {},
   "outputs": [],
   "source": [
    "arr=np.random.randint(100,size=(5,6))"
   ]
  },
  {
   "cell_type": "code",
   "execution_count": 20,
   "id": "77b26183-c29a-492b-82f6-6725327a058b",
   "metadata": {},
   "outputs": [
    {
     "data": {
      "text/plain": [
       "array([[65, 13,  0, 12, 45, 49],\n",
       "       [75, 85, 51, 38,  8, 76],\n",
       "       [80, 44, 38, 11, 48,  9],\n",
       "       [67, 11, 88, 50, 36, 19],\n",
       "       [54, 52, 30, 18, 47, 22]])"
      ]
     },
     "execution_count": 20,
     "metadata": {},
     "output_type": "execute_result"
    }
   ],
   "source": [
    "arr"
   ]
  },
  {
   "cell_type": "code",
   "execution_count": 23,
   "id": "d88a1fa9-65af-430b-996a-7c4da579ffbc",
   "metadata": {},
   "outputs": [],
   "source": [
    "I=list(arr.reshape(10,3))"
   ]
  },
  {
   "cell_type": "code",
   "execution_count": 24,
   "id": "50c30d88-5344-44da-891f-7386cd678d12",
   "metadata": {},
   "outputs": [],
   "source": [
    "a=np.array(I)"
   ]
  },
  {
   "cell_type": "code",
   "execution_count": 25,
   "id": "2fa860d8-d9d1-4ddc-87eb-ef99e2c4ee66",
   "metadata": {},
   "outputs": [
    {
     "data": {
      "text/plain": [
       "array([[65, 13,  0],\n",
       "       [12, 45, 49],\n",
       "       [75, 85, 51],\n",
       "       [38,  8, 76],\n",
       "       [80, 44, 38],\n",
       "       [11, 48,  9],\n",
       "       [67, 11, 88],\n",
       "       [50, 36, 19],\n",
       "       [54, 52, 30],\n",
       "       [18, 47, 22]])"
      ]
     },
     "execution_count": 25,
     "metadata": {},
     "output_type": "execute_result"
    }
   ],
   "source": [
    "a"
   ]
  },
  {
   "cell_type": "code",
   "execution_count": 26,
   "id": "b9a4d178-7a79-4504-8e33-6e0a3403aa5b",
   "metadata": {},
   "outputs": [
    {
     "data": {
      "text/plain": [
       "(10, 3)"
      ]
     },
     "execution_count": 26,
     "metadata": {},
     "output_type": "execute_result"
    }
   ],
   "source": [
    "a.shape"
   ]
  },
  {
   "cell_type": "code",
   "execution_count": 27,
   "id": "b17a4efc-843b-434a-9eea-c1188e514d45",
   "metadata": {},
   "outputs": [
    {
     "data": {
      "text/plain": [
       "48"
      ]
     },
     "execution_count": 27,
     "metadata": {},
     "output_type": "execute_result"
    }
   ],
   "source": [
    "a[5][1]"
   ]
  },
  {
   "cell_type": "code",
   "execution_count": 28,
   "id": "cd444cd7-d3ac-499d-bb33-2ba3b3c45b38",
   "metadata": {},
   "outputs": [
    {
     "data": {
      "text/plain": [
       "623.2322222222224"
      ]
     },
     "execution_count": 28,
     "metadata": {},
     "output_type": "execute_result"
    }
   ],
   "source": [
    "arr.var()"
   ]
  },
  {
   "cell_type": "code",
   "execution_count": 29,
   "id": "e8a0abc5-3b6a-4a2c-a027-5218e4141186",
   "metadata": {},
   "outputs": [
    {
     "data": {
      "text/plain": [
       "0"
      ]
     },
     "execution_count": 29,
     "metadata": {},
     "output_type": "execute_result"
    }
   ],
   "source": [
    "arr.min()"
   ]
  },
  {
   "cell_type": "code",
   "execution_count": 30,
   "id": "53d6dd3c-4ab5-43bc-9f60-a70e603bd6de",
   "metadata": {},
   "outputs": [
    {
     "data": {
      "text/plain": [
       "41.36666666666667"
      ]
     },
     "execution_count": 30,
     "metadata": {},
     "output_type": "execute_result"
    }
   ],
   "source": [
    "arr.mean()"
   ]
  },
  {
   "cell_type": "code",
   "execution_count": 32,
   "id": "951f0c22-a61b-4cab-a857-954f9935741c",
   "metadata": {},
   "outputs": [
    {
     "ename": "AttributeError",
     "evalue": "'numpy.ndarray' object has no attribute 'median'",
     "output_type": "error",
     "traceback": [
      "\u001b[1;31m---------------------------------------------------------------------------\u001b[0m",
      "\u001b[1;31mAttributeError\u001b[0m                            Traceback (most recent call last)",
      "Cell \u001b[1;32mIn[32], line 1\u001b[0m\n\u001b[1;32m----> 1\u001b[0m \u001b[43marr\u001b[49m\u001b[38;5;241;43m.\u001b[39;49m\u001b[43mmedian\u001b[49m()\n",
      "\u001b[1;31mAttributeError\u001b[0m: 'numpy.ndarray' object has no attribute 'median'"
     ]
    }
   ],
   "source": [
    "arr.median()"
   ]
  },
  {
   "cell_type": "code",
   "execution_count": 33,
   "id": "a778eda6-c8d6-4af1-be4c-45fd3dae3f2c",
   "metadata": {},
   "outputs": [
    {
     "data": {
      "text/plain": [
       "dtype('int32')"
      ]
     },
     "execution_count": 33,
     "metadata": {},
     "output_type": "execute_result"
    }
   ],
   "source": [
    "a.dtype"
   ]
  },
  {
   "cell_type": "code",
   "execution_count": null,
   "id": "4ba39af9-05b4-491c-ab6e-2928e202b6a4",
   "metadata": {},
   "outputs": [],
   "source": []
  }
 ],
 "metadata": {
  "kernelspec": {
   "display_name": "Python 3 (ipykernel)",
   "language": "python",
   "name": "python3"
  },
  "language_info": {
   "codemirror_mode": {
    "name": "ipython",
    "version": 3
   },
   "file_extension": ".py",
   "mimetype": "text/x-python",
   "name": "python",
   "nbconvert_exporter": "python",
   "pygments_lexer": "ipython3",
   "version": "3.12.0"
  }
 },
 "nbformat": 4,
 "nbformat_minor": 5
}
