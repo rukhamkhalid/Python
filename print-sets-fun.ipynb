{
 "cells": [
  {
   "cell_type": "markdown",
   "id": "1f51caa9-5eca-4491-bb71-63ded4eb796e",
   "metadata": {},
   "source": [
    "#print "
   ]
  },
  {
   "cell_type": "code",
   "execution_count": 4,
   "id": "7b7cf931-077b-4c81-8fc9-b3d764e89293",
   "metadata": {},
   "outputs": [
    {
     "name": "stdout",
     "output_type": "stream",
     "text": [
      "Python for beginners\n",
      "Python for beginners\n",
      "Python for beginners\n",
      "\n"
     ]
    }
   ],
   "source": [
    "print(\"Python for beginners\\n\"*3)                         "
   ]
  },
  {
   "cell_type": "markdown",
   "id": "1cd86bf6-9601-434a-bb15-a7019efc35c1",
   "metadata": {},
   "source": [
    "#datatypes       list [] braces m bnti"
   ]
  },
  {
   "cell_type": "code",
   "execution_count": 5,
   "id": "55f20648-1063-4659-b775-6c5e36584219",
   "metadata": {},
   "outputs": [],
   "source": [
    "a=10                              "
   ]
  },
  {
   "cell_type": "code",
   "execution_count": 6,
   "id": "22650ff2-0b55-47cd-aa38-d05efc5e228a",
   "metadata": {},
   "outputs": [],
   "source": [
    "a=\"Rukham\""
   ]
  },
  {
   "cell_type": "code",
   "execution_count": 7,
   "id": "cc840d8e-fbae-412c-bdcc-ef99ece0945b",
   "metadata": {},
   "outputs": [
    {
     "name": "stdout",
     "output_type": "stream",
     "text": [
      "Rukham\n"
     ]
    }
   ],
   "source": [
    "print(a)"
   ]
  },
  {
   "cell_type": "code",
   "execution_count": 10,
   "id": "1a6a15a0-b3a5-421b-a254-fc1fca9e65fe",
   "metadata": {},
   "outputs": [],
   "source": [
    "a=str(10)                         "
   ]
  },
  {
   "cell_type": "code",
   "execution_count": 11,
   "id": "7795e7ac-0989-4e34-8b5c-21220aaa292a",
   "metadata": {},
   "outputs": [
    {
     "name": "stdout",
     "output_type": "stream",
     "text": [
      "10\n"
     ]
    }
   ],
   "source": [
    "print(a)"
   ]
  },
  {
   "cell_type": "code",
   "execution_count": 16,
   "id": "11639221-5f07-46b1-bfda-59661e77de63",
   "metadata": {},
   "outputs": [],
   "source": [
    "li=[1,2,3,4,\"a\",True]                 "
   ]
  },
  {
   "cell_type": "code",
   "execution_count": 13,
   "id": "8845d47a-3d6b-4380-b3b4-39582723532b",
   "metadata": {},
   "outputs": [
    {
     "name": "stdout",
     "output_type": "stream",
     "text": [
      "4\n"
     ]
    }
   ],
   "source": [
    "print(li[3])"
   ]
  },
  {
   "cell_type": "code",
   "execution_count": 18,
   "id": "930fe29c-6dd6-430d-a6c5-34d45ed7d94f",
   "metadata": {},
   "outputs": [],
   "source": [
    "li.insert(3,\"Rukham\")"
   ]
  },
  {
   "cell_type": "code",
   "execution_count": 19,
   "id": "62851749-50c6-4155-a864-861284dff6b9",
   "metadata": {},
   "outputs": [
    {
     "name": "stdout",
     "output_type": "stream",
     "text": [
      "[1, 2, 3, 'Rukham', 4, 'a', True]\n"
     ]
    }
   ],
   "source": [
    "print(li)"
   ]
  },
  {
   "cell_type": "markdown",
   "id": "815a37dd-2f9d-43f8-8514-6676bd749048",
   "metadata": {},
   "source": [
    "##sets{} m bnty  intersection common & used   union m | used"
   ]
  },
  {
   "cell_type": "code",
   "execution_count": 20,
   "id": "84b05826-607d-4726-80f7-db2651459161",
   "metadata": {},
   "outputs": [],
   "source": [
    "sets={1,2,3,1,3,2,8}"
   ]
  },
  {
   "cell_type": "code",
   "execution_count": 34,
   "id": "9c38d4fd-8e44-4291-b63e-c576fa8d4143",
   "metadata": {},
   "outputs": [
    {
     "name": "stdout",
     "output_type": "stream",
     "text": [
      "{8, 1, 2, 3}\n"
     ]
    }
   ],
   "source": [
    "print(sets)        "
   ]
  },
  {
   "cell_type": "code",
   "execution_count": 26,
   "id": "06b6e757-1770-434f-b37b-f5f31eda5db6",
   "metadata": {},
   "outputs": [],
   "source": [
    "a={1,2,3,4}"
   ]
  },
  {
   "cell_type": "code",
   "execution_count": 28,
   "id": "8e3d0069-b522-4a4c-a2e2-1bdde7a8f28a",
   "metadata": {},
   "outputs": [],
   "source": [
    "b={3,4,5,6}"
   ]
  },
  {
   "cell_type": "code",
   "execution_count": 29,
   "id": "19deda87-7fa8-4473-8989-18111814b3c0",
   "metadata": {},
   "outputs": [],
   "source": [
    "c= a & b                            "
   ]
  },
  {
   "cell_type": "code",
   "execution_count": 25,
   "id": "b434a1a8-f048-4a86-9aa1-1bf02c291dee",
   "metadata": {},
   "outputs": [
    {
     "name": "stdout",
     "output_type": "stream",
     "text": [
      "{3, 4}\n"
     ]
    }
   ],
   "source": [
    "print(c)"
   ]
  },
  {
   "cell_type": "code",
   "execution_count": 30,
   "id": "4a2be38d-55ca-4984-aabc-72e9ec54783c",
   "metadata": {},
   "outputs": [],
   "source": [
    "c=a|b                  "
   ]
  },
  {
   "cell_type": "code",
   "execution_count": 31,
   "id": "90299eac-af92-4975-9cb7-fc440be6c0d6",
   "metadata": {},
   "outputs": [
    {
     "name": "stdout",
     "output_type": "stream",
     "text": [
      "{1, 2, 3, 4, 5, 6}\n"
     ]
    }
   ],
   "source": [
    "print(c)"
   ]
  },
  {
   "cell_type": "code",
   "execution_count": 32,
   "id": "4c437625-5843-424a-81e5-cd5d460a22f5",
   "metadata": {},
   "outputs": [],
   "source": [
    "c=a-b                         "
   ]
  },
  {
   "cell_type": "code",
   "execution_count": 33,
   "id": "b0f3ba82-648d-432c-a1e0-298301e66858",
   "metadata": {},
   "outputs": [
    {
     "name": "stdout",
     "output_type": "stream",
     "text": [
      "{1, 2}\n"
     ]
    }
   ],
   "source": [
    "print(c)"
   ]
  },
  {
   "cell_type": "markdown",
   "id": "963e31df-fb21-44f5-9157-b72d27e75748",
   "metadata": {},
   "source": [
    "###tuple list  ki trh hoti but tuple is not changed   ()m bnty "
   ]
  },
  {
   "cell_type": "code",
   "execution_count": 38,
   "id": "f3a336e6-749a-4ec9-9398-55d8f238db6b",
   "metadata": {},
   "outputs": [],
   "source": [
    "t=(1,2,3)                                       "
   ]
  },
  {
   "cell_type": "code",
   "execution_count": 40,
   "id": "4cec93ec-b398-4344-aad2-63537ac99da6",
   "metadata": {},
   "outputs": [],
   "source": [
    "#t.append(2)"
   ]
  },
  {
   "cell_type": "code",
   "execution_count": 39,
   "id": "53e683e9-2c6d-48be-8208-54dbe0e65597",
   "metadata": {},
   "outputs": [
    {
     "name": "stdout",
     "output_type": "stream",
     "text": [
      "(1, 2, 3)\n"
     ]
    }
   ],
   "source": [
    "print(t)"
   ]
  },
  {
   "cell_type": "markdown",
   "id": "7540822a-ba4c-42a6-94a3-4e024a217b7b",
   "metadata": {},
   "source": [
    "  ####looping : use in python "
   ]
  },
  {
   "cell_type": "code",
   "execution_count": 45,
   "id": "73230403-3eb6-44bb-b177-9a5a87ab76a5",
   "metadata": {},
   "outputs": [],
   "source": [
    "a=4               "
   ]
  },
  {
   "cell_type": "code",
   "execution_count": 46,
   "id": "6a6b9649-3472-4825-a7d2-dc8915b25914",
   "metadata": {},
   "outputs": [
    {
     "name": "stdout",
     "output_type": "stream",
     "text": [
      "Rukham\n",
      "\n",
      "Rukham\n",
      "\n",
      "Rukham\n",
      "\n",
      "Rukham\n",
      "\n",
      "Rukham\n",
      "\n"
     ]
    }
   ],
   "source": [
    "if a<5:\n",
    "     print(\"Rukham\\n\")\n",
    "     print(\"Rukham\\n\")\n",
    "     print(\"Rukham\\n\")\n",
    "     print(\"Rukham\\n\")\n",
    "     print(\"Rukham\\n\")\n",
    "elif a>5:\n",
    "     print(\"elif\")\n",
    "     print(\"elif\")\n",
    "     print(\"elif\")\n",
    "     print(\"elif\")\n",
    "else:\n",
    "    print(\"Terminal\\n\")"
   ]
  },
  {
   "cell_type": "code",
   "execution_count": 47,
   "id": "4bd221ee-ee7e-4c01-bc0e-791506b20058",
   "metadata": {},
   "outputs": [
    {
     "name": "stdout",
     "output_type": "stream",
     "text": [
      "0\n",
      "3\n",
      "6\n",
      "9\n"
     ]
    }
   ],
   "source": [
    "for i in range(0,10,3):\n",
    "    print(i)"
   ]
  },
  {
   "cell_type": "code",
   "execution_count": 48,
   "id": "4eece0b7-abbf-46a8-8ab9-1fb71dbe9957",
   "metadata": {},
   "outputs": [
    {
     "name": "stdout",
     "output_type": "stream",
     "text": [
      "5\n",
      "6\n",
      "7\n",
      "8\n",
      "9\n"
     ]
    }
   ],
   "source": [
    "for i in range(5,10):\n",
    "    print(i)"
   ]
  },
  {
   "cell_type": "code",
   "execution_count": 49,
   "id": "694ee4be-65ea-439f-af45-bc79fd9c14fe",
   "metadata": {},
   "outputs": [
    {
     "name": "stdout",
     "output_type": "stream",
     "text": [
      "10\n",
      "9\n",
      "8\n",
      "7\n",
      "6\n"
     ]
    }
   ],
   "source": [
    "for i in range(10,5,-1):\n",
    "    print(i)"
   ]
  },
  {
   "cell_type": "code",
   "execution_count": 58,
   "id": "18348178-3cd6-4d3c-986c-095f24f00a6e",
   "metadata": {},
   "outputs": [],
   "source": [
    "li=[1,2,3,4,5,6,\"Rukham\"]"
   ]
  },
  {
   "cell_type": "code",
   "execution_count": 53,
   "id": "0b31fb1c-56d3-4708-a0fb-749e330ab983",
   "metadata": {},
   "outputs": [
    {
     "name": "stdout",
     "output_type": "stream",
     "text": [
      "1\n",
      "2\n",
      "3\n",
      "4\n"
     ]
    }
   ],
   "source": [
    "for i in range(4):\n",
    "    print(li[i])"
   ]
  },
  {
   "cell_type": "code",
   "execution_count": 57,
   "id": "83831ff7-8077-43b2-bff9-8e95220deb33",
   "metadata": {},
   "outputs": [
    {
     "name": "stdout",
     "output_type": "stream",
     "text": [
      "1\n",
      "2\n",
      "3\n",
      "4\n",
      "5\n",
      "6\n",
      "Rukham\n"
     ]
    }
   ],
   "source": [
    "for i in li:\n",
    "    print(i)"
   ]
  },
  {
   "cell_type": "code",
   "execution_count": 59,
   "id": "917860d2-2f6f-4e97-84b2-177bf1f50e38",
   "metadata": {},
   "outputs": [
    {
     "name": "stdout",
     "output_type": "stream",
     "text": [
      "3\n",
      "6\n",
      "9\n",
      "12\n",
      "15\n",
      "18\n",
      "RukhamRukhamRukham\n"
     ]
    }
   ],
   "source": [
    "for i in li:\n",
    "    print(i*3)"
   ]
  },
  {
   "cell_type": "code",
   "execution_count": 62,
   "id": "44b6f14b-dac4-4780-8355-0946deec125a",
   "metadata": {},
   "outputs": [],
   "source": [
    "li=[x for x in range(50)]"
   ]
  },
  {
   "cell_type": "code",
   "execution_count": 63,
   "id": "32e09484-0969-44a0-be32-87e493690ae3",
   "metadata": {},
   "outputs": [
    {
     "name": "stdout",
     "output_type": "stream",
     "text": [
      "[0, 1, 2, 3, 4, 5, 6, 7, 8, 9, 10, 11, 12, 13, 14, 15, 16, 17, 18, 19, 20, 21, 22, 23, 24, 25, 26, 27, 28, 29, 30, 31, 32, 33, 34, 35, 36, 37, 38, 39, 40, 41, 42, 43, 44, 45, 46, 47, 48, 49]\n"
     ]
    }
   ],
   "source": [
    "print(li)"
   ]
  },
  {
   "cell_type": "code",
   "execution_count": 64,
   "id": "1b3d80ea-c8c3-43c7-9f95-b136ca4a56f7",
   "metadata": {},
   "outputs": [],
   "source": [
    "li=[x for x in range(50) if x%3==0]"
   ]
  },
  {
   "cell_type": "code",
   "execution_count": 65,
   "id": "84f099ea-027d-4e29-8741-e19be700f5bf",
   "metadata": {},
   "outputs": [
    {
     "name": "stdout",
     "output_type": "stream",
     "text": [
      "[0, 3, 6, 9, 12, 15, 18, 21, 24, 27, 30, 33, 36, 39, 42, 45, 48]\n"
     ]
    }
   ],
   "source": [
    "print(li)"
   ]
  },
  {
   "cell_type": "code",
   "execution_count": 66,
   "id": "bc2f32f8-e0ac-4609-b48b-c8b1ffd35d76",
   "metadata": {},
   "outputs": [
    {
     "name": "stdout",
     "output_type": "stream",
     "text": [
      "[0, 3, 5, 6, 9, 10, 12, 15, 18, 20, 21, 24, 25, 27, 30, 33, 35, 36, 39, 40, 42, 45, 48]\n"
     ]
    }
   ],
   "source": [
    "li=[x for x in range(50) if x%3==0 or x%5==0]\n",
    "print(li)"
   ]
  },
  {
   "cell_type": "markdown",
   "id": "82a5dc40-cbca-4137-bf99-58b68b90023f",
   "metadata": {},
   "source": [
    "#####functions"
   ]
  },
  {
   "cell_type": "code",
   "execution_count": 5,
   "id": "735a5174-d08a-41ec-924a-e32cbad275a9",
   "metadata": {},
   "outputs": [],
   "source": [
    "def func(i,j,k):              \n",
    "    return i, j*2, k*3"
   ]
  },
  {
   "cell_type": "code",
   "execution_count": 6,
   "id": "d6c9419f-836f-4bf6-b2e9-6ce7ead0650a",
   "metadata": {},
   "outputs": [
    {
     "name": "stdout",
     "output_type": "stream",
     "text": [
      "(2, 6, 12)\n"
     ]
    }
   ],
   "source": [
    "print(func(2,3,4))"
   ]
  },
  {
   "cell_type": "code",
   "execution_count": 9,
   "id": "97263631-8f8a-4f58-ba3b-41a79e632720",
   "metadata": {},
   "outputs": [],
   "source": [
    "def func(i,j,k):\n",
    "    return i, j*2, k*3\n",
    "    "
   ]
  },
  {
   "cell_type": "code",
   "execution_count": 10,
   "id": "66385886-fbc7-4b8a-93e3-d2e7ea7acea0",
   "metadata": {},
   "outputs": [],
   "source": [
    "a,b,c=func(2,3,4)"
   ]
  },
  {
   "cell_type": "code",
   "execution_count": 11,
   "id": "ce20dc58-a07e-4915-85de-fa5d7af57bc4",
   "metadata": {},
   "outputs": [
    {
     "name": "stdout",
     "output_type": "stream",
     "text": [
      "12\n"
     ]
    }
   ],
   "source": [
    "print(c)"
   ]
  },
  {
   "cell_type": "code",
   "execution_count": null,
   "id": "a25afac9-6eb9-486f-8c52-6bd31690e610",
   "metadata": {},
   "outputs": [],
   "source": []
  }
 ],
 "metadata": {
  "kernelspec": {
   "display_name": "Python 3 (ipykernel)",
   "language": "python",
   "name": "python3"
  },
  "language_info": {
   "codemirror_mode": {
    "name": "ipython",
    "version": 3
   },
   "file_extension": ".py",
   "mimetype": "text/x-python",
   "name": "python",
   "nbconvert_exporter": "python",
   "pygments_lexer": "ipython3",
   "version": "3.12.0"
  }
 },
 "nbformat": 4,
 "nbformat_minor": 5
}
