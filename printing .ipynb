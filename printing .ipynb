{
 "cells": [
  {
   "cell_type": "code",
   "execution_count": 26,
   "id": "472a6bc8-9d10-4fb3-a923-f911dcd26ede",
   "metadata": {},
   "outputs": [],
   "source": [
    "name = \"Rukham Khalid\""
   ]
  },
  {
   "cell_type": "code",
   "execution_count": 27,
   "id": "97ae60ef-508c-4395-9690-6751516bf37c",
   "metadata": {},
   "outputs": [
    {
     "name": "stdout",
     "output_type": "stream",
     "text": [
      "R\n",
      "u\n",
      "k\n",
      "h\n",
      "a\n",
      "m\n",
      " \n",
      "K\n",
      "h\n",
      "a\n",
      "l\n",
      "i\n",
      "d\n"
     ]
    }
   ],
   "source": [
    "for x in name:\n",
    "    print(x)"
   ]
  },
  {
   "cell_type": "code",
   "execution_count": 28,
   "id": "788ed2bd-31bf-4f35-aba1-afd382727a04",
   "metadata": {},
   "outputs": [],
   "source": [
    "name = \"Khalid Mehmood\""
   ]
  },
  {
   "cell_type": "code",
   "execution_count": 24,
   "id": "97eae435-5887-4a92-adbd-34ac780877d4",
   "metadata": {},
   "outputs": [
    {
     "name": "stdout",
     "output_type": "stream",
     "text": [
      "K\n",
      "h\n",
      "a\n",
      "l\n",
      "i\n",
      "d\n",
      " \n",
      "M\n",
      "e\n",
      "h\n",
      "m\n",
      "o\n",
      "o\n",
      "d\n"
     ]
    }
   ],
   "source": [
    "for k in name:\n",
    "    print(k)"
   ]
  },
  {
   "cell_type": "code",
   "execution_count": 25,
   "id": "61fae972-08ed-4dd2-b7f7-fe7fe40bcb27",
   "metadata": {},
   "outputs": [
    {
     "name": "stdout",
     "output_type": "stream",
     "text": [
      "Khalid MehmoodKhalid MehmoodKhalid Mehmood\n"
     ]
    }
   ],
   "source": [
    "print(name*3)"
   ]
  },
  {
   "cell_type": "code",
   "execution_count": null,
   "id": "a4db6258-a72e-4c65-8728-36aa932ff638",
   "metadata": {},
   "outputs": [],
   "source": [
    "name = \"Rukham \"\n",
    "father = \"Khalid\\n\""
   ]
  },
  {
   "cell_type": "code",
   "execution_count": 20,
   "id": "7acfc48c-c7a5-4be7-aee1-33971f57b73f",
   "metadata": {},
   "outputs": [
    {
     "name": "stdout",
     "output_type": "stream",
     "text": [
      "R\n",
      "u\n",
      "k\n",
      "h\n",
      "a\n",
      "m\n",
      " \n",
      "K\n",
      "h\n",
      "a\n",
      "l\n",
      "i\n",
      "d\n",
      "\n",
      "\n"
     ]
    }
   ],
   "source": [
    "for r in name:\n",
    "    print(r)\n",
    "for f in father:\n",
    "    print(f)"
   ]
  },
  {
   "cell_type": "code",
   "execution_count": null,
   "id": "6d6b1ae8-2f84-4385-926d-5db888c82a77",
   "metadata": {},
   "outputs": [],
   "source": []
  },
  {
   "cell_type": "code",
   "execution_count": 21,
   "id": "37e2c6ee-ccb5-40d8-94b1-095150fdcd03",
   "metadata": {},
   "outputs": [
    {
     "name": "stdout",
     "output_type": "stream",
     "text": [
      "Rukham Khalid\n",
      "Rukham Khalid\n",
      "Rukham Khalid\n",
      "Rukham Khalid\n",
      "Rukham Khalid\n",
      "Rukham Khalid\n",
      "Rukham Khalid\n",
      "Rukham Khalid\n",
      "Rukham Khalid\n",
      "Rukham Khalid\n",
      "\n"
     ]
    }
   ],
   "source": [
    "print((name+father)*10)"
   ]
  },
  {
   "cell_type": "code",
   "execution_count": null,
   "id": "7bfea47f-b96c-4066-9f78-9b5c55048212",
   "metadata": {},
   "outputs": [],
   "source": []
  },
  {
   "cell_type": "code",
   "execution_count": null,
   "id": "0836fedd-2841-4f21-84ae-bf6e7b2d51c4",
   "metadata": {},
   "outputs": [],
   "source": []
  }
 ],
 "metadata": {
  "kernelspec": {
   "display_name": "Python 3 (ipykernel)",
   "language": "python",
   "name": "python3"
  },
  "language_info": {
   "codemirror_mode": {
    "name": "ipython",
    "version": 3
   },
   "file_extension": ".py",
   "mimetype": "text/x-python",
   "name": "python",
   "nbconvert_exporter": "python",
   "pygments_lexer": "ipython3",
   "version": "3.12.0"
  }
 },
 "nbformat": 4,
 "nbformat_minor": 5
}
